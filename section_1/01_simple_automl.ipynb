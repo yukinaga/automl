{
  "nbformat": 4,
  "nbformat_minor": 0,
  "metadata": {
    "colab": {
      "name": "01_simple_automl.ipynb",
      "provenance": [],
      "collapsed_sections": [],
      "authorship_tag": "ABX9TyMXV9EUyCvk5k/PoCqAOgfe",
      "include_colab_link": true
    },
    "kernelspec": {
      "name": "python3",
      "display_name": "Python 3"
    },
    "language_info": {
      "name": "python"
    }
  },
  "cells": [
    {
      "cell_type": "markdown",
      "metadata": {
        "id": "view-in-github",
        "colab_type": "text"
      },
      "source": [
        "<a href=\"https://colab.research.google.com/github/yukinaga/automl/blob/main/section_1/01_simple_automl.ipynb\" target=\"_parent\"><img src=\"https://colab.research.google.com/assets/colab-badge.svg\" alt=\"Open In Colab\"/></a>"
      ]
    },
    {
      "cell_type": "markdown",
      "metadata": {
        "id": "Gn9UO4-nl7OY"
      },
      "source": [
        "# シンプルなAutoML\n",
        "ライブラリPyCaretを使い、AutoMLによる機械学習を実装します。  \n",
        "顧客情報から、その顧客がデフォルト（債務不履行）するかどうかを判定します。  "
      ]
    },
    {
      "cell_type": "markdown",
      "metadata": {
        "id": "dsRDmh9BF3gJ"
      },
      "source": [
        "## PyCaretのインストール\n",
        "AutoMLをサポートするライブラリ、PyCaretをバージョンを指定してインストールします。"
      ]
    },
    {
      "cell_type": "code",
      "metadata": {
        "id": "SWdUoVOzhUst"
      },
      "source": [
        "!pip install pycaret==2.3.6\n",
        "!pip install pandas-profiling==3.1.0"
      ],
      "execution_count": null,
      "outputs": []
    },
    {
      "cell_type": "markdown",
      "metadata": {
        "id": "gSx_i9YCGvGA"
      },
      "source": [
        "## Google Colabの設定\n",
        "Google Colab環境でPyCaretのインタラクティブな要素を表示するためには、以下のコードを実行する必要があります。"
      ]
    },
    {
      "cell_type": "code",
      "metadata": {
        "id": "KaJjoErYGyXc"
      },
      "source": [
        "from pycaret.utils import enable_colab\n",
        "\n",
        "enable_colab()"
      ],
      "execution_count": null,
      "outputs": []
    },
    {
      "cell_type": "markdown",
      "metadata": {
        "id": "Tx8-9mRgGSUr"
      },
      "source": [
        "## データセットの読み込み\n",
        "今回は、UCIのDefault of Credit Card Clients Datasetというデータセットを使います。  \n",
        "このデータセットには、2005年4月から2005年9月までの、台湾のクレジットカード顧客情報が含まれます。  \n",
        "顧客情報には、デフォルト（債務不履行）したかどうか、人口統計学的要因、信用データ、支払い履歴、および請求書の情報があります。  \n",
        "サンプル数は24000で特徴の数は25です。  \n",
        "以下は各特徴の簡単な説明です。  \n",
        "\n",
        "* ID： 各顧客のID\n",
        "* LIMIT_BAL: ニュー台湾ドル建ての与信額\n",
        "* SEX: 性別(1=男性、2=女性)\n",
        "* EDUCATION： 教育（1＝大学院、2＝大学、3＝高校、4＝その他、5＝不明、6＝不明)\n",
        "* MARRIAGE: 結婚の有無（1＝既婚、2＝独身、3＝その他)\n",
        "* AGE: 年齢（単位：歳)\n",
        "* PAY_0～PAY_6： nヶ月前の返済状況（-1=正規の支払い、1=1ヶ月間の支払い遅延、2=2ヶ月間の支払い遅延、...)\n",
        "* BILL_AMT1～BILL_AMT6： nヶ月前までの請求明細の金額\n",
        "* PAY_AMT1 to PAY_AMT6: nヶ月前までの支払額\n",
        "* default: 債務不履行したかどうか (1=yes, 0=no) \n",
        "\n",
        "https://archive.ics.uci.edu/ml/datasets/default+of+credit+card+clients"
      ]
    },
    {
      "cell_type": "code",
      "metadata": {
        "id": "l64j5voyi8SM"
      },
      "source": [
        "from pycaret.datasets import get_data\n",
        "\n",
        "dataset = get_data(\"credit\")  # データの取得\n",
        "dataset.shape  # データの形状"
      ],
      "execution_count": null,
      "outputs": []
    },
    {
      "cell_type": "markdown",
      "metadata": {
        "id": "i7pCnlCKNYP3"
      },
      "source": [
        "## 環境の設定\n",
        "PyCaretの環境を設定します。  \n",
        "setup関数はPyCaretの環境を初期化しますが、PyCaretの他の関数を実行する前に呼び出す必要があります。  \n",
        "\n",
        "以下のコードを実行すると、setup関数が実行されてすべての特徴のデータ型が自動的に推定されます。  \n",
        "この際に、必ずしも正しく推論されるとは限らないことにご注意ください。     \n",
        "データの型に問題が無ければ、空白を入力することで設定を完了することができます。  "
      ]
    },
    {
      "cell_type": "code",
      "metadata": {
        "id": "-O9MinyDnHpB"
      },
      "source": [
        "from pycaret.classification import setup\n",
        "\n",
        "clf = setup(data=dataset, target=\"default\", session_id=123)  # 環境の初期化"
      ],
      "execution_count": null,
      "outputs": []
    },
    {
      "cell_type": "markdown",
      "metadata": {
        "id": "NKQ1lZcXR4DL"
      },
      "source": [
        "## モデルの比較\n",
        "様々なモデルを比較して、性能を評価します。  \n",
        "compare_models関数は、ライブラリ内のすべてのモデルを使って訓練を行い、スコアを評価します。  "
      ]
    },
    {
      "cell_type": "code",
      "metadata": {
        "id": "k9jV5GnCqRRG"
      },
      "source": [
        "from pycaret.classification import compare_models\n",
        "\n",
        "best_model = compare_models()  # 全てのモデルを訓練し、評価する"
      ],
      "execution_count": null,
      "outputs": []
    },
    {
      "cell_type": "markdown",
      "metadata": {
        "id": "rUU9fK_EUUsH"
      },
      "source": [
        "わずか1行のコードで、15以上の機械学習モデルを訓練し、評価することができました。  \n",
        "  \n",
        "最もスコアの良いモデルの概要を表示します。\n"
      ]
    },
    {
      "cell_type": "code",
      "metadata": {
        "id": "pZunyfB_rPHb"
      },
      "source": [
        "print(best_model)"
      ],
      "execution_count": null,
      "outputs": []
    },
    {
      "cell_type": "markdown",
      "metadata": {
        "id": "Zs8pBaGfVYyU"
      },
      "source": [
        "## モデルの作成\n",
        "models関数により、全ての使用可能な機械学習モデルを確認することができます。"
      ]
    },
    {
      "cell_type": "code",
      "metadata": {
        "id": "0aDJmjKdugo-"
      },
      "source": [
        "from pycaret.classification import models\n",
        "\n",
        "models()  # 機械学習モデルの一覧"
      ],
      "execution_count": null,
      "outputs": []
    },
    {
      "cell_type": "markdown",
      "metadata": {
        "id": "olciFZKWW43-"
      },
      "source": [
        "create_model関数は、「交差検証」を用いて個別のモデルの訓練と評価を行います。  \n",
        "デフォルトでは、データを10に分割し10通りのテストデータ/訓練データの組み合わせを試します。     \n",
        "今回は、ツリー状の構造を使ってデータを分類する「決定木」のモデルを作成します。  "
      ]
    },
    {
      "cell_type": "code",
      "metadata": {
        "id": "k8MIUL7Trf9h"
      },
      "source": [
        "from pycaret.classification import create_model\n",
        "\n",
        "dt = create_model(\"dt\")  # 決定木のモデルを作成"
      ],
      "execution_count": null,
      "outputs": []
    },
    {
      "cell_type": "markdown",
      "metadata": {
        "id": "fNNUb1KzaXOL"
      },
      "source": [
        "訓練済みモデルの概要を表示します。  "
      ]
    },
    {
      "cell_type": "code",
      "metadata": {
        "id": "zAZau_D8uEMA"
      },
      "source": [
        "print(dt)"
      ],
      "execution_count": null,
      "outputs": []
    },
    {
      "cell_type": "markdown",
      "metadata": {
        "id": "NZV2jYKyaxeM"
      },
      "source": [
        "## ハイパーパラメータの調整\n",
        "create_model関数は、デフォルトのハイパーパラメータを使ってモデルを訓練します。  \n",
        "ハイパーパラメータを調整するには、tune_model関数を使用します。  "
      ]
    },
    {
      "cell_type": "code",
      "metadata": {
        "id": "kRyIUO6Yvc-B"
      },
      "source": [
        "from pycaret.classification import tune_model\n",
        "\n",
        "tuned_dt = tune_model(dt)  # ハイパーパラメータの調整"
      ],
      "execution_count": null,
      "outputs": []
    },
    {
      "cell_type": "markdown",
      "metadata": {
        "id": "8ZNHSG5cbSGe"
      },
      "source": [
        "ハイパーパラメータを調整済みの、訓練済みモデルの概要を表示します。  "
      ]
    },
    {
      "cell_type": "code",
      "metadata": {
        "id": "q_k-T1HCvn2s"
      },
      "source": [
        "print(tuned_dt)"
      ],
      "execution_count": null,
      "outputs": []
    },
    {
      "cell_type": "markdown",
      "metadata": {
        "id": "QO_zJgDbd-dt"
      },
      "source": [
        "## モデルを評価する\n",
        "plot_model関数により、様々な側面からモデルを分析することができます。  \n",
        "15種類のプロットが利用可能です。  \n",
        "\n",
        "https://pycaret.org/plot-model/\n",
        "\n",
        "以下のコードは、各特徴の重要度をグラフにプロットします。  "
      ]
    },
    {
      "cell_type": "code",
      "metadata": {
        "id": "9p_3L4cbvvzt"
      },
      "source": [
        "from pycaret.classification import plot_model\n",
        "\n",
        "plot_model(tuned_dt, plot=\"feature\")  # 各特徴の重要度をプロット"
      ],
      "execution_count": null,
      "outputs": []
    }
  ]
}