{
  "nbformat": 4,
  "nbformat_minor": 0,
  "metadata": {
    "colab": {
      "name": "01_automl_regression.ipynb",
      "provenance": [],
      "collapsed_sections": [],
      "authorship_tag": "ABX9TyOexRvAopAMMRdFrzcgsKsF",
      "include_colab_link": true
    },
    "kernelspec": {
      "name": "python3",
      "display_name": "Python 3"
    },
    "language_info": {
      "name": "python"
    }
  },
  "cells": [
    {
      "cell_type": "markdown",
      "metadata": {
        "id": "view-in-github",
        "colab_type": "text"
      },
      "source": [
        "<a href=\"https://colab.research.google.com/github/yukinaga/automl/blob/main/section_2/01_automl_regression.ipynb\" target=\"_parent\"><img src=\"https://colab.research.google.com/assets/colab-badge.svg\" alt=\"Open In Colab\"/></a>"
      ]
    },
    {
      "cell_type": "markdown",
      "metadata": {
        "id": "Gn9UO4-nl7OY"
      },
      "source": [
        "# AutoMLによる「回帰」\n",
        "ライブラリPyCaretを使い、AutoMLによる「回帰」の機械学習を実装します。  \n",
        "ダイヤモンドの様々な観測データから、その価格を予測します。  "
      ]
    },
    {
      "cell_type": "markdown",
      "metadata": {
        "id": "dsRDmh9BF3gJ"
      },
      "source": [
        "## PyCaretのインストール\n",
        "AutoMLをサポートするライブラリ、PyCaretをバージョンを指定してインストールします。"
      ]
    },
    {
      "cell_type": "code",
      "metadata": {
        "id": "SWdUoVOzhUst"
      },
      "source": [
        "!pip install pycaret==2.3.6\n",
        "!pip install pandas-profiling==3.1.0"
      ],
      "execution_count": null,
      "outputs": []
    },
    {
      "cell_type": "markdown",
      "metadata": {
        "id": "gSx_i9YCGvGA"
      },
      "source": [
        "## Google Colabの設定\n",
        "Google Colab環境でPyCaretのインタラクティブな要素を表示するためには、以下のコードを実行する必要があります。"
      ]
    },
    {
      "cell_type": "code",
      "metadata": {
        "id": "KaJjoErYGyXc"
      },
      "source": [
        "from pycaret.utils import enable_colab\n",
        "\n",
        "enable_colab()"
      ],
      "execution_count": null,
      "outputs": []
    },
    {
      "cell_type": "markdown",
      "metadata": {
        "id": "Tx8-9mRgGSUr"
      },
      "source": [
        "## データセットの読み込み\n",
        "今回は「Sarah Gets a Diamond」というデータセットを使います。  \n",
        "データセットには6000レコードが含まれています。  \n",
        "各カラムの簡単な説明は以下の通りです。\n",
        "\n",
        "* ID: 各ダイヤを識別するためのID\n",
        "* Carat Weight: ダイヤの重量\n",
        "* Cut: ダイヤモンドのカットを望ましい順に並べたもの（Signature-Ideal、Ideal、Very Good、Good、Fair)\n",
        "* Color: ダイヤモンドの色（D、E、Fは無色、G、H、Iは無色に近い）\n",
        "* Clarity: ダイヤモンドのクラリティ（F - Flawless、IF - Internally Flawless、VVS1またはVVS2 - Very, Very Slightly Included、VS1またはVS2 - Very Slightly Included、SI1 - Slightly Included）\n",
        "* Polish: ダイヤモンドの研磨状態（ID - Ideal、EX - Excellent、VG - Very Good、G - Good）\n",
        "* Symmetry: ダイヤモンドの対称性（ID - 理想的、EX - 優れている、VG - 非常に良い、G - 良い）\n",
        "* Report: 「 AGSL」または「GIA」のいずれかで、ダイヤの品質を報告した鑑定機関を示す\n",
        "* Price: ダイヤモンドの評価額（米ドル）\n",
        "\n",
        "https://www.kaggle.com/c/abafall2020/data"
      ]
    },
    {
      "cell_type": "code",
      "metadata": {
        "id": "l64j5voyi8SM"
      },
      "source": [
        "from pycaret.datasets import get_data\n",
        "\n",
        "dataset = get_data(\"diamond\")  # データの取得\n",
        "dataset.shape  # データの形状"
      ],
      "execution_count": null,
      "outputs": []
    },
    {
      "cell_type": "markdown",
      "metadata": {
        "id": "-ebOwjM1QEXV"
      },
      "source": [
        "訓練済みモデルの検証に用いる「未知のデータ」を訓練データから取り出します。  "
      ]
    },
    {
      "cell_type": "code",
      "metadata": {
        "id": "mzxpY8eOGH-b"
      },
      "source": [
        "data = dataset.sample(frac=0.9, random_state=786)  # 訓練データ\n",
        "data_unseen = dataset.drop(data.index)  # 未知のデータ\n",
        "\n",
        "data.reset_index(drop=True, inplace=True)  # インデックスを初期化\n",
        "data_unseen.reset_index(drop=True, inplace=True)  # インデックスを初期化\n",
        "\n",
        "print(\"訓練データの形状: \" + str(data.shape))\n",
        "print(\"未知のデータの形状: \" + str(data_unseen.shape))"
      ],
      "execution_count": null,
      "outputs": []
    },
    {
      "cell_type": "markdown",
      "metadata": {
        "id": "i7pCnlCKNYP3"
      },
      "source": [
        "## 環境の設定\n",
        "PyCaretの環境を設定します。  \n",
        "setup関数はPyCaretの環境を初期化しますが、PyCaretの他の関数を実行する前に呼び出す必要があります。  \n",
        "\n",
        "以下のコードを実行すると、setup関数が実行されてすべての特徴のデータ型が自動的に推定されます。  \n",
        "この際に、必ずしも正しく推論されるとは限らないことにご注意ください。     \n",
        "データの型に問題が無ければ、空白を入力することで設定を完了することができます。  "
      ]
    },
    {
      "cell_type": "code",
      "metadata": {
        "id": "-O9MinyDnHpB"
      },
      "source": [
        "from pycaret.regression import setup\n",
        "\n",
        "clf = setup(data=data, target=\"Price\", session_id=123)  # 環境の初期化"
      ],
      "execution_count": null,
      "outputs": []
    },
    {
      "cell_type": "markdown",
      "metadata": {
        "id": "NKQ1lZcXR4DL"
      },
      "source": [
        "## モデルの比較\n",
        "様々なモデルを比較して、性能を評価します。  \n",
        "compare_models関数は、ライブラリ内のすべてのモデルを使って訓練を行い、スコアを評価します。  "
      ]
    },
    {
      "cell_type": "code",
      "metadata": {
        "id": "k9jV5GnCqRRG"
      },
      "source": [
        "from pycaret.regression import compare_models\n",
        "\n",
        "best_model = compare_models()  # 全てのモデルを訓練し、評価する"
      ],
      "execution_count": null,
      "outputs": []
    },
    {
      "cell_type": "markdown",
      "metadata": {
        "id": "rUU9fK_EUUsH"
      },
      "source": [
        "わずか1行のコードで、15以上の機械学習モデルを訓練し、評価することができました。  \n",
        "  \n",
        "最もスコアの良いモデルの概要を表示します。\n"
      ]
    },
    {
      "cell_type": "code",
      "metadata": {
        "id": "pZunyfB_rPHb"
      },
      "source": [
        "print(best_model)"
      ],
      "execution_count": null,
      "outputs": []
    },
    {
      "cell_type": "markdown",
      "metadata": {
        "id": "Zs8pBaGfVYyU"
      },
      "source": [
        "## モデルの作成\n",
        "models関数により、全ての使用可能な機械学習モデルを確認することができます。"
      ]
    },
    {
      "cell_type": "code",
      "metadata": {
        "id": "0aDJmjKdugo-"
      },
      "source": [
        "from pycaret.regression import models\n",
        "\n",
        "models()  # 機械学習モデルの一覧"
      ],
      "execution_count": null,
      "outputs": []
    },
    {
      "cell_type": "markdown",
      "metadata": {
        "id": "olciFZKWW43-"
      },
      "source": [
        "create_model関数は、「交差検証」を用いて個別のモデルの訓練と評価を行います。  \n",
        "デフォルトでは、データを10に分割し10通りのテストデータ/訓練データの組み合わせを試します。     \n",
        "  \n",
        "今回は、上記の中で最もシンプルな「線形回帰」のモデルを作成します。  "
      ]
    },
    {
      "cell_type": "code",
      "metadata": {
        "id": "k8MIUL7Trf9h"
      },
      "source": [
        "from pycaret.regression import create_model\n",
        "\n",
        "lr = create_model(\"lr\")  # 線形回帰のモデルを作成"
      ],
      "execution_count": null,
      "outputs": []
    },
    {
      "cell_type": "markdown",
      "metadata": {
        "id": "fNNUb1KzaXOL"
      },
      "source": [
        "訓練済みモデルの概要を表示します。  "
      ]
    },
    {
      "cell_type": "code",
      "metadata": {
        "id": "zAZau_D8uEMA"
      },
      "source": [
        "print(lr)"
      ],
      "execution_count": null,
      "outputs": []
    },
    {
      "cell_type": "markdown",
      "metadata": {
        "id": "1oT1Z_CDXpb1"
      },
      "source": [
        "各ハイパーパラメータの意味は、scikit-learnの公式ドキュメントに解説があります。  \n",
        "https://scikit-learn.org/stable/modules/generated/sklearn.linear_model.LinearRegression.html"
      ]
    },
    {
      "cell_type": "markdown",
      "metadata": {
        "id": "NZV2jYKyaxeM"
      },
      "source": [
        "## ハイパーパラメータの調整\n",
        "create_model関数は、デフォルトのハイパーパラメータを使ってモデルを訓練します。  \n",
        "ハイパーパラメータを調整するためには、tune_model関数を使用します。  "
      ]
    },
    {
      "cell_type": "code",
      "metadata": {
        "id": "kRyIUO6Yvc-B"
      },
      "source": [
        "from pycaret.regression import tune_model\n",
        "\n",
        "tuned_lr = tune_model(lr)  # ハイパーパラメータの調整"
      ],
      "execution_count": null,
      "outputs": []
    },
    {
      "cell_type": "markdown",
      "metadata": {
        "id": "8ZNHSG5cbSGe"
      },
      "source": [
        "ハイパーパラメータを調整済みの、訓練済みモデルの概要を表示します。  "
      ]
    },
    {
      "cell_type": "code",
      "metadata": {
        "id": "q_k-T1HCvn2s"
      },
      "source": [
        "print(tuned_lr)"
      ],
      "execution_count": null,
      "outputs": []
    },
    {
      "cell_type": "markdown",
      "metadata": {
        "id": "QO_zJgDbd-dt"
      },
      "source": [
        "## モデルを評価する\n",
        "plot_model関数により、様々な角度からモデルを分析することができます。  \n",
        "https://pycaret.org/plot-model/\n",
        "\n",
        "plot_model関数でplotを指定しない場合、残差プロット（Residual Plot）が表示されます。  \n",
        "残差プロットは横軸に予測値をとり、縦軸に回帰残差をとってプロットしたものです。  \n",
        "これにより、何らかの規則性や分散の偏りなどの有無を判断することができます。 "
      ]
    },
    {
      "cell_type": "code",
      "metadata": {
        "id": "zXfbyXa8n6fc"
      },
      "source": [
        "from pycaret.regression import plot_model\n",
        "\n",
        "plot_model(tuned_lr)"
      ],
      "execution_count": null,
      "outputs": []
    },
    {
      "cell_type": "markdown",
      "metadata": {
        "id": "y3uF04c0b88F"
      },
      "source": [
        "以下のコードは、各特徴量の重要度をプロットします。"
      ]
    },
    {
      "cell_type": "code",
      "metadata": {
        "id": "9p_3L4cbvvzt"
      },
      "source": [
        "plot_model(tuned_lr, plot=\"feature\")  # 各特徴の重要度をプロット"
      ],
      "execution_count": null,
      "outputs": []
    },
    {
      "cell_type": "markdown",
      "metadata": {
        "id": "zKL3AYXfdV5F"
      },
      "source": [
        "モデルは、`evaluate_model`関数で評価することもできます。  "
      ]
    },
    {
      "cell_type": "code",
      "metadata": {
        "id": "dJih8Y13yoVW"
      },
      "source": [
        "from pycaret.regression import evaluate_model\n",
        "\n",
        "evaluate_model(tuned_lr)"
      ],
      "execution_count": null,
      "outputs": []
    },
    {
      "cell_type": "markdown",
      "metadata": {
        "id": "0tX3YqRKftd8"
      },
      "source": [
        "## デプロイ用のモデルを作成\n",
        "`finalize_model`関数により全てのデータセットを使ってモデルを訓練し、デプロイ用のモデルを作成します。   "
      ]
    },
    {
      "cell_type": "code",
      "metadata": {
        "id": "Sp9EIYA9yrHg"
      },
      "source": [
        "from pycaret.regression import finalize_model\n",
        "\n",
        "final_lr = finalize_model(tuned_lr)\n",
        "print(final_lr)"
      ],
      "execution_count": null,
      "outputs": []
    },
    {
      "cell_type": "markdown",
      "metadata": {
        "id": "Z_4MQQ0Zhi8c"
      },
      "source": [
        "`predict_model`関数によりデプロイ用のモデルを評価します。"
      ]
    },
    {
      "cell_type": "code",
      "metadata": {
        "id": "z1MlFc4o7_Ga"
      },
      "source": [
        "from pycaret.regression import predict_model\n",
        "\n",
        "predict_model(final_lr);"
      ],
      "execution_count": null,
      "outputs": []
    },
    {
      "cell_type": "markdown",
      "metadata": {
        "id": "GgfDqRBTFtSz"
      },
      "source": [
        "`save_model`関数によりモデルを保存することができます。  "
      ]
    },
    {
      "cell_type": "code",
      "metadata": {
        "id": "dvIl2G8_Ftvs"
      },
      "source": [
        "from pycaret.regression import save_model\n",
        "\n",
        "save_model(final_lr, \"lr_model\")"
      ],
      "execution_count": null,
      "outputs": []
    },
    {
      "cell_type": "markdown",
      "metadata": {
        "id": "SFFWZFSzl7gd"
      },
      "source": [
        "`load_model`関数により、保存されたモデルを読み込むことができます。"
      ]
    },
    {
      "cell_type": "code",
      "metadata": {
        "id": "GUUciwgvF0eF"
      },
      "source": [
        "from pycaret.regression import load_model\n",
        "\n",
        "loaded_lr = load_model(\"lr_model\")"
      ],
      "execution_count": null,
      "outputs": []
    },
    {
      "cell_type": "markdown",
      "metadata": {
        "id": "nJtHEFGSjHEr"
      },
      "source": [
        "## 未知のデータで予測する\n",
        "デプロイ用のモデルを使い、「未知のデータ」で価格の予測を行います。  "
      ]
    },
    {
      "cell_type": "code",
      "metadata": {
        "id": "ATaqIJbB9PMN"
      },
      "source": [
        "unseen_pred = predict_model(loaded_lr, data=data_unseen)\n",
        "unseen_pred.head()"
      ],
      "execution_count": null,
      "outputs": []
    }
  ]
}