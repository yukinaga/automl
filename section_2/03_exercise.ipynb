{
  "nbformat": 4,
  "nbformat_minor": 0,
  "metadata": {
    "colab": {
      "provenance": [],
      "authorship_tag": "ABX9TyNj1h4+5y0rllqKD6VWr0PB",
      "include_colab_link": true
    },
    "kernelspec": {
      "name": "python3",
      "display_name": "Python 3"
    },
    "language_info": {
      "name": "python"
    }
  },
  "cells": [
    {
      "cell_type": "markdown",
      "metadata": {
        "id": "view-in-github",
        "colab_type": "text"
      },
      "source": [
        "<a href=\"https://colab.research.google.com/github/yukinaga/automl/blob/main/section_2/03_exercise.ipynb\" target=\"_parent\"><img src=\"https://colab.research.google.com/assets/colab-badge.svg\" alt=\"Open In Colab\"/></a>"
      ]
    },
    {
      "cell_type": "markdown",
      "metadata": {
        "id": "Gn9UO4-nl7OY"
      },
      "source": [
        "# 演習\n",
        "今回の演習では、多層パーセプトロン（Multilayer perceptron、MLP）を使いダイヤモンドの価格を予測します。  \n",
        "MLPのモデルを作成し、ハイパーパラメータをチューニングするコードを記述しましょう。"
      ]
    },
    {
      "cell_type": "markdown",
      "metadata": {
        "id": "dsRDmh9BF3gJ"
      },
      "source": [
        "## PyCaretのインストール"
      ]
    },
    {
      "cell_type": "code",
      "metadata": {
        "id": "SWdUoVOzhUst"
      },
      "source": [
        "!pip install numpy==1.21.4 numba==0.53\n",
        "!pip install pycaret==2.3.6\n",
        "!pip install pandas-profiling==3.1.0"
      ],
      "execution_count": null,
      "outputs": []
    },
    {
      "cell_type": "markdown",
      "metadata": {
        "id": "gSx_i9YCGvGA"
      },
      "source": [
        "## Google Colabの設定"
      ]
    },
    {
      "cell_type": "code",
      "metadata": {
        "id": "KaJjoErYGyXc"
      },
      "source": [
        "from pycaret.utils import enable_colab\n",
        "\n",
        "enable_colab()"
      ],
      "execution_count": null,
      "outputs": []
    },
    {
      "cell_type": "markdown",
      "metadata": {
        "id": "Tx8-9mRgGSUr"
      },
      "source": [
        "## データセットの読み込み\n",
        "「Sarah Gets a Diamond」を読み込みます。  "
      ]
    },
    {
      "cell_type": "code",
      "metadata": {
        "id": "l64j5voyi8SM"
      },
      "source": [
        "from pycaret.datasets import get_data\n",
        "\n",
        "dataset = get_data(\"diamond\")  # データの取得\n",
        "dataset.shape  # データの形状"
      ],
      "execution_count": null,
      "outputs": []
    },
    {
      "cell_type": "code",
      "metadata": {
        "id": "mzxpY8eOGH-b"
      },
      "source": [
        "data = dataset.sample(frac=0.9, random_state=786)  # 訓練データ\n",
        "data_unseen = dataset.drop(data.index)  # 未知のデータ\n",
        "\n",
        "data.reset_index(drop=True, inplace=True)  # インデックスを初期化\n",
        "data_unseen.reset_index(drop=True, inplace=True)  # インデックスを初期化\n",
        "\n",
        "print(\"訓練データの形状: \" + str(data.shape))\n",
        "print(\"未知のデータの形状: \" + str(data_unseen.shape))"
      ],
      "execution_count": null,
      "outputs": []
    },
    {
      "cell_type": "markdown",
      "metadata": {
        "id": "i7pCnlCKNYP3"
      },
      "source": [
        "## 環境の設定"
      ]
    },
    {
      "cell_type": "code",
      "metadata": {
        "id": "-O9MinyDnHpB"
      },
      "source": [
        "from pycaret.regression import setup\n",
        "\n",
        "clf = setup(data=data, target=\"Price\", session_id=123)  # 環境の初期化"
      ],
      "execution_count": null,
      "outputs": []
    },
    {
      "cell_type": "markdown",
      "metadata": {
        "id": "olciFZKWW43-"
      },
      "source": [
        "## モデルの作成\n",
        "以下のコードに追記を行い、「多層パーセプトロン」のモデルを作成しましょう。  "
      ]
    },
    {
      "cell_type": "code",
      "metadata": {
        "id": "k8MIUL7Trf9h"
      },
      "source": [
        "from pycaret.regression import create_model\n",
        "\n",
        "mlp =   # 多層パーセプトロンのモデルを作成"
      ],
      "execution_count": null,
      "outputs": []
    },
    {
      "cell_type": "code",
      "metadata": {
        "id": "zAZau_D8uEMA"
      },
      "source": [
        "print(mlp)"
      ],
      "execution_count": null,
      "outputs": []
    },
    {
      "cell_type": "markdown",
      "metadata": {
        "id": "NZV2jYKyaxeM"
      },
      "source": [
        "## ハイパーパラメータの調整\n",
        "以下のコードに追記を行い、多層パーセプトロンのハイパーパラメータを調整しましょう。"
      ]
    },
    {
      "cell_type": "code",
      "metadata": {
        "id": "kRyIUO6Yvc-B"
      },
      "source": [
        "from pycaret.regression import tune_model\n",
        "\n",
        "tuned_mlp =   # ハイパーパラメータの調整"
      ],
      "execution_count": null,
      "outputs": []
    },
    {
      "cell_type": "code",
      "metadata": {
        "id": "q_k-T1HCvn2s"
      },
      "source": [
        "print(tuned_mlp)"
      ],
      "execution_count": null,
      "outputs": []
    },
    {
      "cell_type": "markdown",
      "metadata": {
        "id": "QO_zJgDbd-dt"
      },
      "source": [
        "## モデルを評価する"
      ]
    },
    {
      "cell_type": "code",
      "metadata": {
        "id": "dJih8Y13yoVW"
      },
      "source": [
        "from pycaret.regression import evaluate_model\n",
        "\n",
        "evaluate_model(tuned_mlp)"
      ],
      "execution_count": null,
      "outputs": []
    },
    {
      "cell_type": "markdown",
      "metadata": {
        "id": "0tX3YqRKftd8"
      },
      "source": [
        "## デプロイ用のモデルを作成"
      ]
    },
    {
      "cell_type": "code",
      "metadata": {
        "id": "Sp9EIYA9yrHg"
      },
      "source": [
        "from pycaret.regression import finalize_model\n",
        "\n",
        "final_mlp = finalize_model(tuned_mlp)\n",
        "print(final_mlp)"
      ],
      "execution_count": null,
      "outputs": []
    },
    {
      "cell_type": "code",
      "metadata": {
        "id": "z1MlFc4o7_Ga"
      },
      "source": [
        "from pycaret.regression import predict_model\n",
        "\n",
        "predict_model(final_mlp);"
      ],
      "execution_count": null,
      "outputs": []
    },
    {
      "cell_type": "code",
      "metadata": {
        "id": "dvIl2G8_Ftvs"
      },
      "source": [
        "from pycaret.regression import save_model\n",
        "\n",
        "save_model(final_mlp, \"mlp_model\")"
      ],
      "execution_count": null,
      "outputs": []
    },
    {
      "cell_type": "code",
      "metadata": {
        "id": "GUUciwgvF0eF"
      },
      "source": [
        "from pycaret.regression import load_model\n",
        "\n",
        "loaded_lr = load_model(\"mlp_model\")"
      ],
      "execution_count": null,
      "outputs": []
    },
    {
      "cell_type": "markdown",
      "metadata": {
        "id": "nJtHEFGSjHEr"
      },
      "source": [
        "## 未知のデータで予測する"
      ]
    },
    {
      "cell_type": "code",
      "metadata": {
        "id": "ATaqIJbB9PMN"
      },
      "source": [
        "unseen_pred = predict_model(loaded_lr, data=data_unseen)\n",
        "unseen_pred.head()"
      ],
      "execution_count": null,
      "outputs": []
    },
    {
      "cell_type": "markdown",
      "metadata": {
        "id": "hlBUxscUhmGP"
      },
      "source": [
        "## 解答例\n",
        "以下は解答例です。"
      ]
    },
    {
      "cell_type": "markdown",
      "metadata": {
        "id": "V3AG4MNbhs7N"
      },
      "source": [
        "### モデルの作成"
      ]
    },
    {
      "cell_type": "code",
      "metadata": {
        "id": "JQkzJVZ3huHU"
      },
      "source": [
        "from pycaret.regression import create_model\n",
        "\n",
        "mlp = create_model(\"mlp\")  # 多層パーセプトロンのモデルを作成"
      ],
      "execution_count": null,
      "outputs": []
    },
    {
      "cell_type": "markdown",
      "metadata": {
        "id": "BBZ_JS7dhzuS"
      },
      "source": [
        "### ハイパーパラメータの調整"
      ]
    },
    {
      "cell_type": "code",
      "metadata": {
        "id": "llF66-zfh5gc"
      },
      "source": [
        "from pycaret.regression import tune_model\n",
        "\n",
        "tuned_mlp = tune_model(mlp)  # ハイパーパラメータの調整"
      ],
      "execution_count": null,
      "outputs": []
    }
  ]
}