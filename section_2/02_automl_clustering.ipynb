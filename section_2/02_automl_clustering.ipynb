{
  "nbformat": 4,
  "nbformat_minor": 0,
  "metadata": {
    "colab": {
      "provenance": [],
      "authorship_tag": "ABX9TyM2uhSSkGqYyxLNx1Zrjuqz",
      "include_colab_link": true
    },
    "kernelspec": {
      "name": "python3",
      "display_name": "Python 3"
    },
    "language_info": {
      "name": "python"
    }
  },
  "cells": [
    {
      "cell_type": "markdown",
      "metadata": {
        "id": "view-in-github",
        "colab_type": "text"
      },
      "source": [
        "<a href=\"https://colab.research.google.com/github/yukinaga/automl/blob/main/section_2/02_automl_clustering.ipynb\" target=\"_parent\"><img src=\"https://colab.research.google.com/assets/colab-badge.svg\" alt=\"Open In Colab\"/></a>"
      ]
    },
    {
      "cell_type": "markdown",
      "metadata": {
        "id": "Gn9UO4-nl7OY"
      },
      "source": [
        "# AutoMLによる「クラスタリング」\n",
        "ライブラリPyCaretを使い、AutoMLによる「クラスタリング」の機械学習を実装します。  \n",
        "様々なタンパク質の測定値から、マウスの分類を行います。  "
      ]
    },
    {
      "cell_type": "markdown",
      "metadata": {
        "id": "dsRDmh9BF3gJ"
      },
      "source": [
        "## PyCaretのインストール\n",
        "AutoMLをサポートするライブラリ、PyCaretをバージョンを指定してインストールします。"
      ]
    },
    {
      "cell_type": "code",
      "metadata": {
        "id": "SWdUoVOzhUst"
      },
      "source": [
        "!pip install numpy==1.21.4 numba==0.53\n",
        "!pip install pycaret==2.3.6\n",
        "!pip install pandas-profiling==3.1.0"
      ],
      "execution_count": null,
      "outputs": []
    },
    {
      "cell_type": "markdown",
      "metadata": {
        "id": "gSx_i9YCGvGA"
      },
      "source": [
        "## Google Colabの設定\n",
        "Google Colab環境でPyCaretのインタラクティブな要素を表示するためには、以下のコードを実行する必要があります。"
      ]
    },
    {
      "cell_type": "code",
      "metadata": {
        "id": "KaJjoErYGyXc"
      },
      "source": [
        "from pycaret.utils import enable_colab\n",
        "\n",
        "enable_colab()"
      ],
      "execution_count": null,
      "outputs": []
    },
    {
      "cell_type": "markdown",
      "metadata": {
        "id": "Tx8-9mRgGSUr"
      },
      "source": [
        "## データセットの読み込み\n",
        "\n",
        "今回は、UCIのMice Protein Expressionというデータセットを使います。  \n",
        "このデータセットは、大脳皮質の核の部分で検出可能なシグナルを出した、77のタンパク質／タンパク質修飾の発現レベルで構成されています。  \n",
        "このデータセットには、タンパク質ごとに合計1080の測定値が含まれおり、各測定値は独立したマウスのものです。  \n",
        "\n",
        "https://archive.ics.uci.edu/ml/datasets/Mice+Protein+Expression"
      ]
    },
    {
      "cell_type": "code",
      "metadata": {
        "id": "l64j5voyi8SM"
      },
      "source": [
        "from pycaret.datasets import get_data\n",
        "\n",
        "dataset = get_data(\"mice\")  # データの取得\n",
        "dataset.shape  # データの形状"
      ],
      "execution_count": null,
      "outputs": []
    },
    {
      "cell_type": "markdown",
      "metadata": {
        "id": "-ebOwjM1QEXV"
      },
      "source": [
        "訓練済みモデルの検証に用いる「未知のデータ」を訓練データから取り出します。  "
      ]
    },
    {
      "cell_type": "code",
      "metadata": {
        "id": "mzxpY8eOGH-b"
      },
      "source": [
        "data = dataset.sample(frac=0.9, random_state=786)  # 訓練データ\n",
        "data_unseen = dataset.drop(data.index)  # 未知のデータ\n",
        "\n",
        "data.reset_index(drop=True, inplace=True)  # インデックスを初期化\n",
        "data_unseen.reset_index(drop=True, inplace=True)  # インデックスを初期化\n",
        "\n",
        "print(\"訓練データの形状: \" + str(data.shape))\n",
        "print(\"未知のデータの形状: \" + str(data_unseen.shape))"
      ],
      "execution_count": null,
      "outputs": []
    },
    {
      "cell_type": "markdown",
      "metadata": {
        "id": "i7pCnlCKNYP3"
      },
      "source": [
        "## 環境の設定\n",
        "PyCaretの環境を設定します。  \n",
        "setup関数はPyCaretの環境を初期化しますが、PyCaretの他の関数を実行する前に呼び出す必要があります。  \n",
        "\n",
        "以下のコードを実行すると、setup関数が実行されてすべての特徴のデータ型が自動的に推定されます。  \n",
        "この際に、必ずしも正しく推論されるとは限らないことにご注意ください。     \n",
        "データの型に問題が無ければ、空白を入力することで設定を完了することができます。  "
      ]
    },
    {
      "cell_type": "code",
      "metadata": {
        "id": "-O9MinyDnHpB"
      },
      "source": [
        "from pycaret.clustering import setup\n",
        "\n",
        "clf = setup(data=data, normalize = True, ignore_features = ['MouseID'], session_id=123)  # 環境の初期化"
      ],
      "execution_count": null,
      "outputs": []
    },
    {
      "cell_type": "markdown",
      "metadata": {
        "id": "Zs8pBaGfVYyU"
      },
      "source": [
        "## モデルの作成\n",
        "models関数により、全ての使用可能な機械学習モデルを確認することができます。"
      ]
    },
    {
      "cell_type": "code",
      "metadata": {
        "id": "0aDJmjKdugo-"
      },
      "source": [
        "from pycaret.clustering import models\n",
        "\n",
        "models()  # 機械学習モデルの一覧"
      ],
      "execution_count": null,
      "outputs": []
    },
    {
      "cell_type": "markdown",
      "metadata": {
        "id": "olciFZKWW43-"
      },
      "source": [
        "create_model関数は、「交差検証」を用いて個別のモデルの訓練と評価を行います。  \n",
        "デフォルトでは、データを10に分割し10通りのテストデータ/訓練データの組み合わせを試します。     \n",
        "  \n",
        "今回は、上記の中で最も有名な「k平均法」のモデルを作成します。  \n",
        "`num_clusters`でクラスタの数（グループの数）を指定することができます。"
      ]
    },
    {
      "cell_type": "code",
      "metadata": {
        "id": "k8MIUL7Trf9h"
      },
      "source": [
        "from pycaret.clustering import create_model\n",
        "\n",
        "kmeans = create_model(\"kmeans\", num_clusters=4)  # 線形回帰のモデルを作成"
      ],
      "execution_count": null,
      "outputs": []
    },
    {
      "cell_type": "markdown",
      "metadata": {
        "id": "fNNUb1KzaXOL"
      },
      "source": [
        "訓練済みモデルの概要を表示します。  "
      ]
    },
    {
      "cell_type": "code",
      "metadata": {
        "id": "zAZau_D8uEMA"
      },
      "source": [
        "print(kmeans)"
      ],
      "execution_count": null,
      "outputs": []
    },
    {
      "cell_type": "markdown",
      "metadata": {
        "id": "NZV2jYKyaxeM"
      },
      "source": [
        "## ラベルの割当て\n",
        "`assign_model`関数により、各サンプルに所属するクラスタを表すラベルを割り当てることができます。  "
      ]
    },
    {
      "cell_type": "code",
      "metadata": {
        "id": "kRyIUO6Yvc-B"
      },
      "source": [
        "from pycaret.clustering import assign_model\n",
        "\n",
        "kmean_assigned = assign_model(kmeans)\n",
        "kmean_assigned.head()"
      ],
      "execution_count": null,
      "outputs": []
    },
    {
      "cell_type": "markdown",
      "metadata": {
        "id": "QO_zJgDbd-dt"
      },
      "source": [
        "## モデルを評価する\n",
        "plot_model関数により、様々な角度からモデルを分析することができます。  \n",
        "https://pycaret.org/plot-model/\n",
        "\n",
        "plot_model関数でplotを指定しない場合、主成分分析（PCA）の結果が表示されます。  \n",
        "この場合、2つの軸に各グループの分布を圧縮することになります。  "
      ]
    },
    {
      "cell_type": "code",
      "metadata": {
        "id": "zXfbyXa8n6fc"
      },
      "source": [
        "from pycaret.clustering import plot_model\n",
        "\n",
        "plot_model(kmeans)"
      ],
      "execution_count": null,
      "outputs": []
    },
    {
      "cell_type": "markdown",
      "metadata": {
        "id": "y3uF04c0b88F"
      },
      "source": [
        "エルボー法（Elbow method）は、適切なクラスタ数を見つけるための手法です。"
      ]
    },
    {
      "cell_type": "code",
      "metadata": {
        "id": "9p_3L4cbvvzt"
      },
      "source": [
        "plot_model(kmeans, plot=\"elbow\")  # エルボー法"
      ],
      "execution_count": null,
      "outputs": []
    },
    {
      "cell_type": "markdown",
      "metadata": {
        "id": "LFBZdUSRT2HK"
      },
      "source": [
        "この例は、最適なクラスタ数を点線で示唆しています。"
      ]
    },
    {
      "cell_type": "markdown",
      "metadata": {
        "id": "NedmWWqyQXYA"
      },
      "source": [
        "シルエット図（Silhouette Plot）は、クラスタ内のサンプルがどの程度密にグループされているか、隣接するクラスターとどれくらい離れているかを可視化します。  \n"
      ]
    },
    {
      "cell_type": "code",
      "metadata": {
        "id": "O6FDEYfZR3tY"
      },
      "source": [
        "plot_model(kmeans, plot=\"silhouette\")  # シルエット図"
      ],
      "execution_count": null,
      "outputs": []
    },
    {
      "cell_type": "markdown",
      "metadata": {
        "id": "zKL3AYXfdV5F"
      },
      "source": [
        "分布図（Distribution）は、各クラスタの大きさを示します。  \n",
        "\n"
      ]
    },
    {
      "cell_type": "code",
      "metadata": {
        "id": "dJih8Y13yoVW"
      },
      "source": [
        "plot_model(kmeans, plot=\"distribution\")  # クラスタのサイズを確認"
      ],
      "execution_count": null,
      "outputs": []
    },
    {
      "cell_type": "markdown",
      "metadata": {
        "id": "0tX3YqRKftd8"
      },
      "source": [
        "## モデルの保存と読み込み"
      ]
    },
    {
      "cell_type": "markdown",
      "metadata": {
        "id": "GgfDqRBTFtSz"
      },
      "source": [
        "`save_model`関数によりモデルを保存することができます。  "
      ]
    },
    {
      "cell_type": "code",
      "metadata": {
        "id": "dvIl2G8_Ftvs"
      },
      "source": [
        "from pycaret.clustering import save_model\n",
        "\n",
        "save_model(kmeans, \"kmeans_model\")"
      ],
      "execution_count": null,
      "outputs": []
    },
    {
      "cell_type": "markdown",
      "metadata": {
        "id": "SFFWZFSzl7gd"
      },
      "source": [
        "`load_model`関数により、保存されたモデルを読み込むことができます。"
      ]
    },
    {
      "cell_type": "code",
      "metadata": {
        "id": "GUUciwgvF0eF"
      },
      "source": [
        "from pycaret.clustering import load_model\n",
        "\n",
        "loaded_kmeans = load_model(\"kmeans_model\")"
      ],
      "execution_count": null,
      "outputs": []
    },
    {
      "cell_type": "markdown",
      "metadata": {
        "id": "nJtHEFGSjHEr"
      },
      "source": [
        "## 未知のデータで予測する\n",
        "「未知のデータ」が所属すべきクラスタを予測します。  "
      ]
    },
    {
      "cell_type": "code",
      "metadata": {
        "id": "ATaqIJbB9PMN"
      },
      "source": [
        "from pycaret.clustering import predict_model\n",
        "\n",
        "unseen_predictions = predict_model(loaded_kmeans, data=data_unseen)\n",
        "unseen_predictions.head()"
      ],
      "execution_count": null,
      "outputs": []
    }
  ]
}