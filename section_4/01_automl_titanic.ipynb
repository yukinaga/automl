{
  "nbformat": 4,
  "nbformat_minor": 0,
  "metadata": {
    "kernelspec": {
      "language": "python",
      "display_name": "Python 3",
      "name": "python3"
    },
    "language_info": {
      "name": "python",
      "version": "3.7.10",
      "mimetype": "text/x-python",
      "codemirror_mode": {
        "name": "ipython",
        "version": 3
      },
      "pygments_lexer": "ipython3",
      "nbconvert_exporter": "python",
      "file_extension": ".py"
    },
    "colab": {
      "provenance": [],
      "include_colab_link": true
    }
  },
  "cells": [
    {
      "cell_type": "markdown",
      "metadata": {
        "id": "view-in-github",
        "colab_type": "text"
      },
      "source": [
        "<a href=\"https://colab.research.google.com/github/yukinaga/automl/blob/main/section_4/01_automl_titanic.ipynb\" target=\"_parent\"><img src=\"https://colab.research.google.com/assets/colab-badge.svg\" alt=\"Open In Colab\"/></a>"
      ]
    },
    {
      "cell_type": "markdown",
      "metadata": {
        "id": "_SKBArDhOm0h"
      },
      "source": [
        "# タイタニック号生存者の予測\n",
        "AutoMLにより、タイタニック号の生存者を予測します。  \n",
        "訓練済みのモデルによる予測結果は、csvファイルに保存して提出します。  "
      ]
    },
    {
      "cell_type": "markdown",
      "metadata": {
        "id": "dsRDmh9BF3gJ"
      },
      "source": [
        "## PyCaretのインストール\n",
        "AutoMLをサポートするライブラリ、PyCaretをバージョンを指定してインストールします。"
      ]
    },
    {
      "cell_type": "code",
      "metadata": {
        "id": "SWdUoVOzhUst"
      },
      "source": [
        "!pip install numpy==1.21.4 numba==0.53\n",
        "!pip install pycaret==2.3.6\n",
        "!pip install pandas-profiling==3.1.0"
      ],
      "execution_count": null,
      "outputs": []
    },
    {
      "cell_type": "markdown",
      "metadata": {
        "id": "gSx_i9YCGvGA"
      },
      "source": [
        "## Google Colabの設定\n",
        "Google Colab環境でPyCaretのインタラクティブな要素を表示するためには、以下のコードを実行する必要があります。"
      ]
    },
    {
      "cell_type": "code",
      "metadata": {
        "id": "KaJjoErYGyXc"
      },
      "source": [
        "from pycaret.utils import enable_colab\n",
        "\n",
        "enable_colab()"
      ],
      "execution_count": null,
      "outputs": []
    },
    {
      "cell_type": "markdown",
      "metadata": {
        "id": "vrrLkhAYOm0h"
      },
      "source": [
        "## データの読み込み\n",
        "以下のページからタイタニック号の乗客データをダウロードして、「train.csv」「test.csv」をノートブック環境にアップします。  \n",
        "https://www.kaggle.com/c/titanic/data\n",
        "\n",
        "以下のコードは、これらのデータを読み込みます。  \n",
        "訓練データには乗客が生き残ったどうかを表す\"Survived\"の列がありますが、テストデータにはありません。  \n",
        "訓練済みのモデルに、テストデータを入力して判定した結果を提出することになります。  \n"
      ]
    },
    {
      "cell_type": "code",
      "metadata": {
        "execution": {
          "iopub.status.busy": "2021-06-07T06:24:30.673433Z",
          "iopub.execute_input": "2021-06-07T06:24:30.674071Z",
          "iopub.status.idle": "2021-06-07T06:24:30.743367Z",
          "shell.execute_reply.started": "2021-06-07T06:24:30.674016Z",
          "shell.execute_reply": "2021-06-07T06:24:30.741854Z"
        },
        "trusted": true,
        "id": "HhBVtZ25Om0i"
      },
      "source": [
        "import numpy as np\n",
        "import pandas as pd\n",
        "\n",
        "train_data = pd.read_csv(\"train.csv\")  # 訓練データ\n",
        "test_data = pd.read_csv(\"test.csv\") # テストデータ\n",
        "\n",
        "train_data.head()"
      ],
      "execution_count": null,
      "outputs": []
    },
    {
      "cell_type": "markdown",
      "metadata": {
        "id": "i7pCnlCKNYP3"
      },
      "source": [
        "## 環境の設定\n",
        "PyCaretの環境を設定します。  \n",
        "setup関数はPyCaretの環境を初期化しますが、PyCaretの他の関数を実行する前に呼び出す必要があります。      \n",
        "データの型に問題が無ければ、空白を入力することで設定を完了することができます。  \n",
        "  \n",
        "今回のデータには一部欠損があるので、欠損データに対する対応を設定する必要があります。  \n",
        "`numeric_imputation=\"mean\"`により数値データの欠損には平均値があてがわれ、`categorical_imputation=\"mode\"`によりカテゴリデータの欠損には最頻値があてがわれます。  \n",
        "\n",
        "https://pycaret.readthedocs.io/en/latest/api/classification.html#pycaret.classification.setup\n"
      ]
    },
    {
      "cell_type": "code",
      "metadata": {
        "id": "-O9MinyDnHpB"
      },
      "source": [
        "from pycaret.classification import setup\n",
        "\n",
        "clf = setup(data=train_data, target=\"Survived\", session_id=123,  # 環境の初期化\n",
        "            numeric_imputation=\"mean\", categorical_imputation=\"mode\")"
      ],
      "execution_count": null,
      "outputs": []
    },
    {
      "cell_type": "markdown",
      "metadata": {
        "id": "NKQ1lZcXR4DL"
      },
      "source": [
        "## モデルの比較\n",
        "様々なモデルを比較して、性能を評価します。  \n",
        "compare_models関数は、ライブラリ内のすべてのモデルを使って訓練を行い、スコアを評価します。  "
      ]
    },
    {
      "cell_type": "code",
      "metadata": {
        "id": "k9jV5GnCqRRG"
      },
      "source": [
        "from pycaret.classification import compare_models\n",
        "\n",
        "best_model = compare_models()  # 全てのモデルを訓練し、評価する"
      ],
      "execution_count": null,
      "outputs": []
    },
    {
      "cell_type": "markdown",
      "metadata": {
        "id": "rUU9fK_EUUsH"
      },
      "source": [
        "わずか1行のコードで、15以上の機械学習モデルを訓練し、評価することができました。  \n",
        "  \n",
        "最もスコアの良いモデルの概要を表示します。\n"
      ]
    },
    {
      "cell_type": "code",
      "metadata": {
        "id": "pZunyfB_rPHb"
      },
      "source": [
        "print(best_model)"
      ],
      "execution_count": null,
      "outputs": []
    },
    {
      "cell_type": "markdown",
      "metadata": {
        "id": "Zs8pBaGfVYyU"
      },
      "source": [
        "## モデルの作成\n",
        "models関数により、全ての使用可能な機械学習モデルを確認することができます。"
      ]
    },
    {
      "cell_type": "code",
      "metadata": {
        "id": "0aDJmjKdugo-"
      },
      "source": [
        "from pycaret.classification import models\n",
        "\n",
        "models()  # 機械学習モデルの一覧"
      ],
      "execution_count": null,
      "outputs": []
    },
    {
      "cell_type": "markdown",
      "metadata": {
        "id": "olciFZKWW43-"
      },
      "source": [
        "create_model関数は、「交差検証」を用いて個別のモデルの訓練と評価を行います。  \n",
        "今回は、先程最も精度が高かった「勾配ブースティング」による分類器（Gradient Boosting Classifier）のモデルを作成します。  \n",
        "勾配ブースティングは弱いモデルが誤差に対して順次学習していく学習方法で、一つの強いモデルを作らず、複数のモデルを組み合わせて強力なモデルとします。  \n",
        "この弱いモデルとして、決定木がよく使われます。"
      ]
    },
    {
      "cell_type": "code",
      "metadata": {
        "id": "k8MIUL7Trf9h"
      },
      "source": [
        "from pycaret.classification import create_model\n",
        "\n",
        "gbc = create_model(\"gbc\")  # 勾配ブースティングのモデルを作成"
      ],
      "execution_count": null,
      "outputs": []
    },
    {
      "cell_type": "markdown",
      "metadata": {
        "id": "fNNUb1KzaXOL"
      },
      "source": [
        "訓練済みモデルの概要を表示します。  "
      ]
    },
    {
      "cell_type": "code",
      "metadata": {
        "id": "zAZau_D8uEMA"
      },
      "source": [
        "print(gbc)"
      ],
      "execution_count": null,
      "outputs": []
    },
    {
      "cell_type": "markdown",
      "metadata": {
        "id": "NZV2jYKyaxeM"
      },
      "source": [
        "## ハイパーパラメータの調整\n",
        "tune_model関数を使用し、ハイパーパラメータを最適化します。"
      ]
    },
    {
      "cell_type": "code",
      "metadata": {
        "id": "kRyIUO6Yvc-B"
      },
      "source": [
        "from pycaret.classification import tune_model\n",
        "\n",
        "tuned_gbc = tune_model(gbc)  # ハイパーパラメータの調整"
      ],
      "execution_count": null,
      "outputs": []
    },
    {
      "cell_type": "markdown",
      "metadata": {
        "id": "8ZNHSG5cbSGe"
      },
      "source": [
        "ハイパーパラメータを調整済みの、モデルの概要を表示します。  "
      ]
    },
    {
      "cell_type": "code",
      "metadata": {
        "id": "q_k-T1HCvn2s"
      },
      "source": [
        "print(tuned_gbc)"
      ],
      "execution_count": null,
      "outputs": []
    },
    {
      "cell_type": "markdown",
      "metadata": {
        "id": "QO_zJgDbd-dt"
      },
      "source": [
        "## モデルを評価する\n",
        "plot_model関数を使い、各特徴量の重要度をプロットします。"
      ]
    },
    {
      "cell_type": "code",
      "metadata": {
        "id": "9p_3L4cbvvzt"
      },
      "source": [
        "from pycaret.classification import plot_model\n",
        "\n",
        "plot_model(tuned_gbc, plot=\"feature\")  # 各特徴の重要度をプロット"
      ],
      "execution_count": null,
      "outputs": []
    },
    {
      "cell_type": "markdown",
      "metadata": {
        "id": "0tX3YqRKftd8"
      },
      "source": [
        "## 本番用のモデルを作成\n",
        "`finalize_model`関数により全ての訓練データを使ってモデルを訓練し、本番用のモデルを作成します。   "
      ]
    },
    {
      "cell_type": "code",
      "metadata": {
        "id": "Sp9EIYA9yrHg"
      },
      "source": [
        "from pycaret.classification import finalize_model\n",
        "\n",
        "final_gbc = finalize_model(tuned_gbc)\n",
        "print(final_gbc)"
      ],
      "execution_count": null,
      "outputs": []
    },
    {
      "cell_type": "markdown",
      "metadata": {
        "id": "K0PWUblbOm0m"
      },
      "source": [
        "## 提出用のデータを作成\n",
        "テストデータを使って予測を行います。  \n",
        "予測結果には、分類されるクラスを表す「Label」列と、そのクラスに含まれる確率を表す「Score」ラベルが含まれます。"
      ]
    },
    {
      "cell_type": "code",
      "metadata": {
        "id": "ATaqIJbB9PMN"
      },
      "source": [
        "from pycaret.classification import predict_model\n",
        "\n",
        "test_pred = predict_model(final_gbc, data=test_data)  # 予測\n",
        "test_pred.head()"
      ],
      "execution_count": null,
      "outputs": []
    },
    {
      "cell_type": "markdown",
      "metadata": {
        "id": "BMJpek592iDC"
      },
      "source": [
        "形式を整えた上で、Kaggleに提出するためのcsvファイルを保存します。"
      ]
    },
    {
      "cell_type": "code",
      "metadata": {
        "execution": {
          "iopub.status.busy": "2021-06-07T06:24:32.632682Z",
          "iopub.execute_input": "2021-06-07T06:24:32.633315Z",
          "iopub.status.idle": "2021-06-07T06:24:32.667287Z",
          "shell.execute_reply.started": "2021-06-07T06:24:32.633264Z",
          "shell.execute_reply": "2021-06-07T06:24:32.666436Z"
        },
        "trusted": true,
        "id": "Cf3ufj9MOm0m"
      },
      "source": [
        "# 形式を整える\n",
        "subm_data = test_pred[[\"PassengerId\", \"Label\"]]  # 列を抜き出す\n",
        "subm_data = subm_data.rename(columns={\"Label\" : \"Survived\"})  # 列名の変更\n",
        "\n",
        "# 提出用のcsvファイルを保存\n",
        "subm_data.to_csv(\"submission_titanic.csv\", index=False)\n",
        "\n",
        "subm_data"
      ],
      "execution_count": null,
      "outputs": []
    }
  ]
}