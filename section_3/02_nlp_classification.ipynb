{
  "nbformat": 4,
  "nbformat_minor": 0,
  "metadata": {
    "colab": {
      "name": "02_nlp_classification.ipynb",
      "provenance": [],
      "collapsed_sections": [],
      "authorship_tag": "ABX9TyMZeSGXQU17TmYX8ygOMq4t",
      "include_colab_link": true
    },
    "kernelspec": {
      "name": "python3",
      "display_name": "Python 3"
    },
    "language_info": {
      "name": "python"
    }
  },
  "cells": [
    {
      "cell_type": "markdown",
      "metadata": {
        "id": "view-in-github",
        "colab_type": "text"
      },
      "source": [
        "<a href=\"https://colab.research.google.com/github/yukinaga/automl/blob/main/section_3/02_nlp_classification.ipynb\" target=\"_parent\"><img src=\"https://colab.research.google.com/assets/colab-badge.svg\" alt=\"Open In Colab\"/></a>"
      ]
    },
    {
      "cell_type": "markdown",
      "metadata": {
        "id": "Gn9UO4-nl7OY"
      },
      "source": [
        "# AutoMLによる「自然言語処理」 -分類-\n",
        "引き続き、AutoMLによる「自然言語処理」を行います。  \n",
        "今回は、クラウドファンディングによる融資が、返済可能であるか判定するモデルを作成します。"
      ]
    },
    {
      "cell_type": "markdown",
      "metadata": {
        "id": "dsRDmh9BF3gJ"
      },
      "source": [
        "## PyCaretのインストール\n",
        "AutoMLをサポートするライブラリ、PyCaretをバージョンを指定してインストールします。"
      ]
    },
    {
      "cell_type": "code",
      "metadata": {
        "id": "SWdUoVOzhUst"
      },
      "source": [
        "!pip install pycaret==2.3.1"
      ],
      "execution_count": null,
      "outputs": []
    },
    {
      "cell_type": "markdown",
      "metadata": {
        "id": "gSx_i9YCGvGA"
      },
      "source": [
        "## Google Colabの設定\n",
        "Google Colab環境でPyCaretのインタラクティブな要素を表示するためには、以下のコードを実行する必要があります。"
      ]
    },
    {
      "cell_type": "code",
      "metadata": {
        "id": "KaJjoErYGyXc"
      },
      "source": [
        "from pycaret.utils import enable_colab\n",
        "\n",
        "enable_colab()"
      ],
      "execution_count": null,
      "outputs": []
    },
    {
      "cell_type": "markdown",
      "metadata": {
        "id": "Tx8-9mRgGSUr"
      },
      "source": [
        "## データセットの読み込み\n",
        "今回も、「Kiva Microfunds」のデータを使用します。  \n",
        "\n",
        "* country: 借り手の国\n",
        "* en: 借り手の個人的なストーリー\n",
        "* gender: 性別 (M=男性, F=女性)\n",
        "* loan_amount: 承認された融資の金額\n",
        "* nonpayment: 貸し手のタイプ（Lender＝Kivaに登録した個人ユーザー、Partner＝Kivaと協力するマイクロファイナンス機関)\n",
        "* sector: 借り手の業種\n",
        "* status: 融資のステータス(1-債務不履行, 0-返済)\n",
        " \n",
        "https://www.kiva.org/ "
      ]
    },
    {
      "cell_type": "code",
      "metadata": {
        "id": "l64j5voyi8SM"
      },
      "source": [
        "from pycaret.datasets import get_data\n",
        "\n",
        "data = get_data(\"kiva\")  # データの取得\n",
        "data.shape  # データの形状"
      ],
      "execution_count": null,
      "outputs": []
    },
    {
      "cell_type": "markdown",
      "metadata": {
        "id": "wocCxiFkY2ku"
      },
      "source": [
        "このままだとハイパーパラメータの最適化や結果の可視化に時間がかかるので、サンプルを1000抜き出して使用します。  \n",
        "時間がかかっても問題ないのであれば、以下のコードはコメントアウトしてください。"
      ]
    },
    {
      "cell_type": "code",
      "metadata": {
        "id": "ks_3wRB5Y3Ge"
      },
      "source": [
        "data = data.sample(1000, random_state=786).reset_index(drop=True)\n",
        "data.shape"
      ],
      "execution_count": null,
      "outputs": []
    },
    {
      "cell_type": "markdown",
      "metadata": {
        "id": "i7pCnlCKNYP3"
      },
      "source": [
        "## 環境の設定\n",
        "PyCaretの環境を設定します。  \n",
        "今回は、custom_stopwordsによりストップワードを設定します。 \n",
        "ストップワードあまりに一般的であるため、トピックの特徴付けに寄与しない単語です。  \n",
        "以下の例では、「01_nlp_copus.ipynb」で得られた、高い頻度で得られた単語をストップワードとしています。   \n",
        "これらの単語は、文章内で非常に高い頻度で使用されおり、情報よりもノイズを増やしています。  "
      ]
    },
    {
      "cell_type": "code",
      "metadata": {
        "id": "-O9MinyDnHpB"
      },
      "source": [
        "from pycaret.nlp import setup\n",
        "\n",
        "stopwords = [\"loan\", \"income\", \"usd\", \"many\", \"also\", \"make\", \"business\", \"buy\", \"sell\",\n",
        "             \"purchase\", \"year\", \"people\", \"able\", \"enable\", \"old\", \"woman\", \"child\", \"school\"]\n",
        "\n",
        "clf = setup(data=data, target=\"en\", \n",
        "            session_id=123,\n",
        "            custom_stopwords=stopwords)  # 環境の初期化"
      ],
      "execution_count": null,
      "outputs": []
    },
    {
      "cell_type": "markdown",
      "metadata": {
        "id": "QJ4xE7vLgqOU"
      },
      "source": [
        "## モデルの作成"
      ]
    },
    {
      "cell_type": "markdown",
      "metadata": {
        "id": "olciFZKWW43-"
      },
      "source": [
        "トピックモデルの1つLatent Dirichlet Allocation (LDA)のモデルを作成し、訓練します。  "
      ]
    },
    {
      "cell_type": "code",
      "metadata": {
        "id": "k8MIUL7Trf9h"
      },
      "source": [
        "from pycaret.nlp import create_model\n",
        "\n",
        "lda = create_model(\"lda\", num_topics=5, multi_core = True)  # LDAのモデルを作成し訓練"
      ],
      "execution_count": null,
      "outputs": []
    },
    {
      "cell_type": "markdown",
      "metadata": {
        "id": "fNNUb1KzaXOL"
      },
      "source": [
        "plotに\"topic_distribution\"を指定し、各トッピックに分類されたサンプル数を確認します。  "
      ]
    },
    {
      "cell_type": "code",
      "metadata": {
        "id": "zAZau_D8uEMA"
      },
      "source": [
        "from pycaret.nlp import plot_model\n",
        "\n",
        "plot_model(lda, plot=\"topic_distribution\")"
      ],
      "execution_count": null,
      "outputs": []
    },
    {
      "cell_type": "markdown",
      "metadata": {
        "id": "QO_zJgDbd-dt"
      },
      "source": [
        "## ハイパーパラメータの最適化\n",
        "tune_model()関数を使って、トピック数を最適化します。  \n",
        "以下のコードでは、トピックモデルの評価指標としてよく使われるCoherenceが最も高くなるように、トピック数が最適化されます。  \n",
        "Coherenceは、トピック内に含まれる語に一貫性があり、人間がいかに理解しやすいトピックであるかを表します。  \n",
        "Coherenceの具体的な計算方法については、以下などを参考にしてください。  \n",
        "https://svn.aksw.org/papers/2015/WSDM_Topic_Evaluation/public.pdf\n",
        "\n",
        "また、custom_gridにはトピック数の候補を設定することができます。  "
      ]
    },
    {
      "cell_type": "code",
      "metadata": {
        "id": "zXfbyXa8n6fc"
      },
      "source": [
        "from pycaret.nlp import tune_model\n",
        "\n",
        "tuned_lda = tune_model(model = \"lda\", multi_core = True, custom_grid=[2, 3, 4, 5, 6, 7, 8])"
      ],
      "execution_count": null,
      "outputs": []
    },
    {
      "cell_type": "markdown",
      "metadata": {
        "id": "lV3zQnib5LWz"
      },
      "source": [
        "plotに\"topic_distribution\"を指定すると、各トッピックに分類されたサンプル数をグラフで確認することができます。  \n",
        "各トピックの棒にカーソルを当てて、キーワードが適切になっていることを確認しましょう。"
      ]
    },
    {
      "cell_type": "code",
      "metadata": {
        "id": "R7thpvtw5mes"
      },
      "source": [
        "plot_model(tuned_lda, plot=\"topic_distribution\")"
      ],
      "execution_count": null,
      "outputs": []
    },
    {
      "cell_type": "markdown",
      "metadata": {
        "id": "4kvXJov4BbI3"
      },
      "source": [
        "t-SNE（T-Distributed Stochastic Neighbor Embedding ）により、データを3次元で可視化しましょう。  "
      ]
    },
    {
      "cell_type": "code",
      "metadata": {
        "id": "Cc38gcrt5qkv"
      },
      "source": [
        "plot_model(tuned_lda, plot=\"tsne\")"
      ],
      "execution_count": null,
      "outputs": []
    },
    {
      "cell_type": "markdown",
      "metadata": {
        "id": "bIwN1zZhSB2l"
      },
      "source": [
        "## モデルの保存と読み込み"
      ]
    },
    {
      "cell_type": "markdown",
      "metadata": {
        "id": "GgfDqRBTFtSz"
      },
      "source": [
        "`save_model`関数によりモデルを保存することができます。  "
      ]
    },
    {
      "cell_type": "code",
      "metadata": {
        "id": "dvIl2G8_Ftvs"
      },
      "source": [
        "from pycaret.nlp import save_model\n",
        "\n",
        "save_model(tuned_lda, \"lda_model\")"
      ],
      "execution_count": null,
      "outputs": []
    },
    {
      "cell_type": "markdown",
      "metadata": {
        "id": "SFFWZFSzl7gd"
      },
      "source": [
        "`load_model`関数により、保存されたモデルを読み込むことができます。"
      ]
    },
    {
      "cell_type": "code",
      "metadata": {
        "id": "GUUciwgvF0eF"
      },
      "source": [
        "from pycaret.nlp import load_model\n",
        "\n",
        "loaded_lda = load_model(\"lda_model\")"
      ],
      "execution_count": null,
      "outputs": []
    },
    {
      "cell_type": "markdown",
      "metadata": {
        "id": "qQV1HxkHr6L5"
      },
      "source": [
        "## （補足）ラベルを使った分類\n",
        "今回使用しているデータセットは、\"status\"の列によりラベル付けされています。  \n",
        "statusが1は債務不履行で、0は返済済みです。  \n",
        "tune_model()関数は、このようなラベルを正解として使って機械学習を行い、最適なトピック数を決定することができます。  \n",
        "分類問題なので、最適化に使用する指標はAccuracy（正解率）です。  \n",
        "  \n",
        "以下のコードでは、supervised_targetに\"status\"を指定することで正解ラベルの列を指定しています。  \n",
        "また、estimatorに\"lr\"を指定しており、ロジスティック回帰による機械学習を選択していることになります。  \n",
        "\n",
        "tune_model関数の詳しい使い方については、以下の公式ドキュメントを参考にしてください。  \n",
        "https://pycaret.org/tune-model/"
      ]
    },
    {
      "cell_type": "code",
      "metadata": {
        "id": "8F7EzYTAr6L7"
      },
      "source": [
        "tuned_classification = tune_model(model = \"lda\",\n",
        "                                  multi_core = True,\n",
        "                                  supervised_target = \"status\",\n",
        "                                  estimator = \"lr\",\n",
        "                                  custom_grid=[2, 3, 4, 5, 6, 7, 8])"
      ],
      "execution_count": null,
      "outputs": []
    },
    {
      "cell_type": "markdown",
      "metadata": {
        "id": "AZQkIYz5r6L7"
      },
      "source": [
        "plotに\"topic_distribution\"を指定し、各トッピックに分類されたサンプル数をグラフで確認します。"
      ]
    },
    {
      "cell_type": "code",
      "metadata": {
        "id": "A82zonWYr6L7"
      },
      "source": [
        "plot_model(tuned_classification, plot=\"topic_distribution\")"
      ],
      "execution_count": null,
      "outputs": []
    },
    {
      "cell_type": "markdown",
      "metadata": {
        "id": "cqb_wd86r6L7"
      },
      "source": [
        "t-SNEにより、データを3次元で可視化します。"
      ]
    },
    {
      "cell_type": "code",
      "metadata": {
        "id": "zueHlQPNr6L7"
      },
      "source": [
        "plot_model(tuned_classification, plot=\"tsne\")"
      ],
      "execution_count": null,
      "outputs": []
    }
  ]
}