{
  "nbformat": 4,
  "nbformat_minor": 0,
  "metadata": {
    "colab": {
      "provenance": [],
      "authorship_tag": "ABX9TyM3vZwF/CANyJJ+EGbScod6",
      "include_colab_link": true
    },
    "kernelspec": {
      "name": "python3",
      "display_name": "Python 3"
    },
    "language_info": {
      "name": "python"
    }
  },
  "cells": [
    {
      "cell_type": "markdown",
      "metadata": {
        "id": "view-in-github",
        "colab_type": "text"
      },
      "source": [
        "<a href=\"https://colab.research.google.com/github/yukinaga/automl/blob/main/section_3/01_nlp_corpus.ipynb\" target=\"_parent\"><img src=\"https://colab.research.google.com/assets/colab-badge.svg\" alt=\"Open In Colab\"/></a>"
      ]
    },
    {
      "cell_type": "markdown",
      "metadata": {
        "id": "Gn9UO4-nl7OY"
      },
      "source": [
        "# AutoMLによる「自然言語処理」 -コーパスの解析-\n",
        "ライブラリPyCaretを使い、AutoMLによる「自然言語処理」を行います。  \n",
        "クラウドファンディングによる融資に関する文章を解析し、返済の可能性を判定しましょう。  \n",
        "まずは、PyCaretによる文章の解析から始めます。"
      ]
    },
    {
      "cell_type": "markdown",
      "metadata": {
        "id": "dsRDmh9BF3gJ"
      },
      "source": [
        "## PyCaretのインストール\n",
        "AutoMLをサポートするライブラリ、PyCaretをバージョンを指定してインストールします。"
      ]
    },
    {
      "cell_type": "code",
      "metadata": {
        "id": "SWdUoVOzhUst"
      },
      "source": [
        "!pip install numpy==1.21.4 numba==0.53\n",
        "!pip install pycaret==2.3.10\n",
        "!pip install pandas-profiling==3.1.0\n",
        "!python -m spacy download en"
      ],
      "execution_count": null,
      "outputs": []
    },
    {
      "cell_type": "markdown",
      "metadata": {
        "id": "gSx_i9YCGvGA"
      },
      "source": [
        "## Google Colabの設定\n",
        "Google Colab環境でPyCaretのインタラクティブな要素を表示するためには、以下のコードを実行する必要があります。"
      ]
    },
    {
      "cell_type": "code",
      "metadata": {
        "id": "KaJjoErYGyXc"
      },
      "source": [
        "from pycaret.utils import enable_colab\n",
        "\n",
        "enable_colab()"
      ],
      "execution_count": null,
      "outputs": []
    },
    {
      "cell_type": "markdown",
      "metadata": {
        "id": "Tx8-9mRgGSUr"
      },
      "source": [
        "## データセットの読み込み\n",
        "今回は、「Kiva Microfunds」のデータを使用します。  \n",
        "Kiva Microfundsは、クラウドファンディングにより個人が世界中の低所得の起業家や学生に融資することを可能にする非営利団体です。  \n",
        "Kivaの各融資のデータには、性別や所在地などの情報に加え、借り手のストーリーも含まれています。  \n",
        "今回は、自然言語処理によりこの借り手のストーリの文章を解析します。  \n",
        "データセットには、6,818のサンプルが含まれています。  \n",
        "データセットにおける各特徴の説明は以下の通りです。\n",
        "\n",
        "* country: 借り手の国\n",
        "* en: 借り手の個人的なストーリー\n",
        "* gender: 性別 (M=男性, F=女性)\n",
        "* loan_amount: 承認された融資の金額\n",
        "* nonpayment: 貸し手のタイプ（Lender＝Kivaに登録した個人ユーザー、Partner＝Kivaと協力するマイクロファイナンス機関)\n",
        "* sector: 借り手の業種\n",
        "* status: 融資のステータス(1-債務不履行, 0-返済)\n",
        " \n",
        "今回は、enの列のみを使用します。  \n",
        "\n",
        "https://www.kiva.org/ "
      ]
    },
    {
      "cell_type": "code",
      "metadata": {
        "id": "l64j5voyi8SM"
      },
      "source": [
        "from pycaret.datasets import get_data\n",
        "\n",
        "data = get_data(\"kiva\")  # データの取得\n",
        "data.shape  # データの形状"
      ],
      "execution_count": null,
      "outputs": []
    },
    {
      "cell_type": "markdown",
      "metadata": {
        "id": "i7pCnlCKNYP3"
      },
      "source": [
        "## 環境の設定\n",
        "PyCaretの環境を設定します。  \n",
        "pycaret.nlpのsetup関数はPyCaretの環境を初期化しますが、PyCaretの他の関数を実行する前に呼び出す必要があります。  \n",
        "\n",
        "その際に、解析対象であるターゲット列を指定する必要があります。"
      ]
    },
    {
      "cell_type": "code",
      "metadata": {
        "id": "-O9MinyDnHpB"
      },
      "source": [
        "from pycaret.nlp import setup\n",
        "\n",
        "clf = setup(data=data, target=\"en\", session_id=123)  # 環境の初期化"
      ],
      "execution_count": null,
      "outputs": []
    },
    {
      "cell_type": "markdown",
      "metadata": {
        "id": "QJ4xE7vLgqOU"
      },
      "source": [
        "## モデルの作成\n",
        "models関数により、全ての使用可能な機械学習モデルを確認することができます。"
      ]
    },
    {
      "cell_type": "code",
      "metadata": {
        "id": "wqcvnpz9gIO1"
      },
      "source": [
        "from pycaret.nlp import models\n",
        "\n",
        "models()  # 機械学習モデルの一覧"
      ],
      "execution_count": null,
      "outputs": []
    },
    {
      "cell_type": "markdown",
      "metadata": {
        "id": "olciFZKWW43-"
      },
      "source": [
        "\n",
        "「トピックモデル」とは、機械学習や自然言語処理において、文書の集合体に出現する抽象的な「トピック」を発見するための統計モデルの一種です。\n",
        "\n",
        "create_model関数は、モデルの訓練と評価を行います。  \n",
        "以下のコードでは、トピックモデルの1つLatent Dirichlet Allocation (LDA)のモデルを作成し、訓練します。  \n",
        "num_topicsでトピックの数を指定しますが、デフォルトのトピック数は4となります。  "
      ]
    },
    {
      "cell_type": "code",
      "metadata": {
        "id": "k8MIUL7Trf9h"
      },
      "source": [
        "from pycaret.nlp import create_model\n",
        "\n",
        "lda = create_model(\"lda\", num_topics=5, multi_core = True)  # LDAのモデルを作成し訓練"
      ],
      "execution_count": null,
      "outputs": []
    },
    {
      "cell_type": "markdown",
      "metadata": {
        "id": "fNNUb1KzaXOL"
      },
      "source": [
        "訓練済みモデルの概要を表示します。  "
      ]
    },
    {
      "cell_type": "code",
      "metadata": {
        "id": "zAZau_D8uEMA"
      },
      "source": [
        "print(lda)"
      ],
      "execution_count": null,
      "outputs": []
    },
    {
      "cell_type": "markdown",
      "metadata": {
        "id": "1oT1Z_CDXpb1"
      },
      "source": [
        "各ハイパーパラメータの意味は、pycaret.nlpの公式ドキュメントに解説があります。  \n",
        "https://pycaret.readthedocs.io/en/latest/api/nlp.html#pycaret.nlp.create_model"
      ]
    },
    {
      "cell_type": "markdown",
      "metadata": {
        "id": "NZV2jYKyaxeM"
      },
      "source": [
        "## ラベルの割当て\n",
        "`assign_model`関数により、各サンプルが各トピックに所属する割合を計算することができます。  "
      ]
    },
    {
      "cell_type": "code",
      "metadata": {
        "id": "q_k-T1HCvn2s"
      },
      "source": [
        "from pycaret.nlp import assign_model\n",
        "\n",
        "lda_results = assign_model(lda)\n",
        "lda_results.head()"
      ],
      "execution_count": null,
      "outputs": []
    },
    {
      "cell_type": "markdown",
      "metadata": {
        "id": "QO_zJgDbd-dt"
      },
      "source": [
        "## 評価\n",
        "plot_model関数により、様々な角度からコーパス全体、もしくは特定のトピックを分析することができます。  \n",
        "https://pycaret.readthedocs.io/en/latest/api/nlp.html#pycaret.nlp.plot_model\n",
        "\n",
        "plot_model関数で特にパラメータを指定しない場合、各単語の出現数がグラフで表示されます。"
      ]
    },
    {
      "cell_type": "code",
      "metadata": {
        "id": "zXfbyXa8n6fc"
      },
      "source": [
        "from pycaret.nlp import plot_model\n",
        "\n",
        "plot_model()"
      ],
      "execution_count": null,
      "outputs": []
    },
    {
      "cell_type": "markdown",
      "metadata": {
        "id": "y3uF04c0b88F"
      },
      "source": [
        "plotに\"bigram\"を指定すると、連続した2単語の出現数がグラフで表示されます。"
      ]
    },
    {
      "cell_type": "code",
      "metadata": {
        "id": "9p_3L4cbvvzt"
      },
      "source": [
        "plot_model(plot=\"bigram\")"
      ],
      "execution_count": null,
      "outputs": []
    },
    {
      "cell_type": "markdown",
      "metadata": {
        "id": "N7pxWK4F0Jpu"
      },
      "source": [
        "topic_numにトピック名を指定することで、特定のトピックを解析することができます。  \n",
        "以下のコードは、\"Topic 1\"という名前のトピックの、単語の出現数をグラフで表示します。"
      ]
    },
    {
      "cell_type": "code",
      "metadata": {
        "id": "HHaMprLL5kQM"
      },
      "source": [
        "plot_model(lda, topic_num=\"Topic 1\")"
      ],
      "execution_count": null,
      "outputs": []
    },
    {
      "cell_type": "markdown",
      "metadata": {
        "id": "lV3zQnib5LWz"
      },
      "source": [
        "plotに\"topic_distribution\"を指定すると、各トッピックに分類されたサンプル数をグラフで確認することができます。  \n",
        "各トピックの棒にカーソルを当てると、各トピックのキーワードが表示されます。"
      ]
    },
    {
      "cell_type": "code",
      "metadata": {
        "id": "R7thpvtw5mes"
      },
      "source": [
        "plot_model(lda, plot=\"topic_distribution\")"
      ],
      "execution_count": null,
      "outputs": []
    },
    {
      "cell_type": "markdown",
      "metadata": {
        "id": "4kvXJov4BbI3"
      },
      "source": [
        "t-SNE（T-Distributed Stochastic Neighbor Embedding ）は高次元データを低次元に変換して可視化するための次元削減アルゴリズムです。  \n",
        "以下のコードのようにplotに\"tsne\"を指定すると、t-SNEによるデータの可視化が行われます。  \n",
        "デフォルトでは3次元への圧縮となります。  "
      ]
    },
    {
      "cell_type": "code",
      "metadata": {
        "id": "Cc38gcrt5qkv"
      },
      "source": [
        "plot_model(lda, plot=\"tsne\")"
      ],
      "execution_count": null,
      "outputs": []
    }
  ]
}