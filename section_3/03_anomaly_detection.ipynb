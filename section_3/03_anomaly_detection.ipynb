{
  "nbformat": 4,
  "nbformat_minor": 0,
  "metadata": {
    "colab": {
      "provenance": [],
      "authorship_tag": "ABX9TyObN3I3k1xPTEPwIL627Y0r",
      "include_colab_link": true
    },
    "kernelspec": {
      "name": "python3",
      "display_name": "Python 3"
    },
    "language_info": {
      "name": "python"
    }
  },
  "cells": [
    {
      "cell_type": "markdown",
      "metadata": {
        "id": "view-in-github",
        "colab_type": "text"
      },
      "source": [
        "<a href=\"https://colab.research.google.com/github/yukinaga/automl/blob/main/section_3/03_anomaly_detection.ipynb\" target=\"_parent\"><img src=\"https://colab.research.google.com/assets/colab-badge.svg\" alt=\"Open In Colab\"/></a>"
      ]
    },
    {
      "cell_type": "markdown",
      "metadata": {
        "id": "Gn9UO4-nl7OY"
      },
      "source": [
        "# AutoMLによる「異常検知」\n",
        "ライブラリPyCaretを使い、AutoMLによる「異常検知」を実装します。  \n",
        "様々なタンパク質の測定値から、異常なサンプルを検出します。  "
      ]
    },
    {
      "cell_type": "markdown",
      "metadata": {
        "id": "dsRDmh9BF3gJ"
      },
      "source": [
        "## PyCaretのインストール\n",
        "AutoMLをサポートするライブラリ、PyCaretをバージョンを指定してインストールします。"
      ]
    },
    {
      "cell_type": "code",
      "metadata": {
        "id": "SWdUoVOzhUst"
      },
      "source": [
        "!pip install numpy==1.21.4 numba==0.53\n",
        "!pip install pycaret==2.3.10\n",
        "!pip install pandas-profiling==3.1.0"
      ],
      "execution_count": null,
      "outputs": []
    },
    {
      "cell_type": "markdown",
      "metadata": {
        "id": "gSx_i9YCGvGA"
      },
      "source": [
        "## Google Colabの設定\n",
        "Google Colab環境でPyCaretのインタラクティブな要素を表示するためには、以下のコードを実行する必要があります。"
      ]
    },
    {
      "cell_type": "code",
      "metadata": {
        "id": "KaJjoErYGyXc"
      },
      "source": [
        "from pycaret.utils import enable_colab\n",
        "\n",
        "enable_colab()"
      ],
      "execution_count": null,
      "outputs": []
    },
    {
      "cell_type": "markdown",
      "metadata": {
        "id": "Tx8-9mRgGSUr"
      },
      "source": [
        "## データセットの読み込み\n",
        "\n",
        "今回は、UCIのMice Protein Expressionというデータセットを使います。  \n",
        "このデータセットは、大脳皮質の核の部分で検出可能なシグナルを出した、77のタンパク質／タンパク質修飾の発現レベルで構成されています。  \n",
        "このデータセットには、タンパク質ごとに合計1080の測定値が含まれおり、各測定値は独立したマウスのものです。  \n",
        "\n",
        "https://archive.ics.uci.edu/ml/datasets/Mice+Protein+Expression"
      ]
    },
    {
      "cell_type": "code",
      "metadata": {
        "id": "l64j5voyi8SM"
      },
      "source": [
        "from pycaret.datasets import get_data\n",
        "\n",
        "dataset = get_data(\"mice\")  # データの取得\n",
        "dataset.shape  # データの形状"
      ],
      "execution_count": null,
      "outputs": []
    },
    {
      "cell_type": "markdown",
      "metadata": {
        "id": "-ebOwjM1QEXV"
      },
      "source": [
        "訓練済みモデルの検証に用いる「未知のデータ」を訓練データから取り出します。  "
      ]
    },
    {
      "cell_type": "code",
      "metadata": {
        "id": "mzxpY8eOGH-b"
      },
      "source": [
        "data = dataset.sample(frac=0.9, random_state=786)  # 訓練データ\n",
        "data_unseen = dataset.drop(data.index)  # 未知のデータ\n",
        "\n",
        "data.reset_index(drop=True, inplace=True)  # インデックスを初期化\n",
        "data_unseen.reset_index(drop=True, inplace=True)  # インデックスを初期化\n",
        "\n",
        "print(\"訓練データの形状: \" + str(data.shape))\n",
        "print(\"未知のデータの形状: \" + str(data_unseen.shape))"
      ],
      "execution_count": null,
      "outputs": []
    },
    {
      "cell_type": "markdown",
      "metadata": {
        "id": "i7pCnlCKNYP3"
      },
      "source": [
        "## 環境の設定\n",
        "PyCaretの環境を設定します。  \n",
        "setup関数はPyCaretの環境を初期化しますが、PyCaretの他の関数を実行する前に呼び出す必要があります。  \n",
        "\n",
        "以下のコードを実行すると、setup関数が実行されてすべての特徴のデータ型が自動的に推定されます。  \n",
        "この際に、必ずしも正しく推論されるとは限らないことにご注意ください。     \n",
        "データの型に問題が無ければ、空白を入力することで設定を完了することができます。  "
      ]
    },
    {
      "cell_type": "code",
      "metadata": {
        "id": "-O9MinyDnHpB"
      },
      "source": [
        "from pycaret.anomaly import setup\n",
        "\n",
        "clf = setup(data=data, normalize = True, ignore_features = ['MouseID'], session_id=123)  # 環境の初期化"
      ],
      "execution_count": null,
      "outputs": []
    },
    {
      "cell_type": "markdown",
      "metadata": {
        "id": "Zs8pBaGfVYyU"
      },
      "source": [
        "## モデルの作成\n",
        "models関数により、全ての使用可能な異常検知のための機械学習モデルを確認することができます。"
      ]
    },
    {
      "cell_type": "code",
      "metadata": {
        "id": "0aDJmjKdugo-"
      },
      "source": [
        "from pycaret.anomaly import models\n",
        "\n",
        "models()  # 機械学習モデルの一覧"
      ],
      "execution_count": null,
      "outputs": []
    },
    {
      "cell_type": "markdown",
      "metadata": {
        "id": "olciFZKWW43-"
      },
      "source": [
        "今回は、異常検知でよく使われるOne Class Support Vector Machine（OCSVM、One Class SVM）を使用します。  \n",
        "One Class SVMは大多数が正常であるようなデータセットをもとに学習を行い、未知のデータが正常であるのか、異常であるのかを判定するのに適しています。   \n",
        "以下のコードではcreate_modelで\"svm\"を設定し、One Class SVMを選択しています。  \n",
        "また、fractionで異常の割合を指定しています。\n"
      ]
    },
    {
      "cell_type": "code",
      "metadata": {
        "id": "k8MIUL7Trf9h"
      },
      "source": [
        "from pycaret.anomaly import create_model\n",
        "\n",
        "svm = create_model(\"svm\", fraction=0.025)"
      ],
      "execution_count": null,
      "outputs": []
    },
    {
      "cell_type": "markdown",
      "metadata": {
        "id": "fNNUb1KzaXOL"
      },
      "source": [
        "訓練済みモデルの概要を表示します。  "
      ]
    },
    {
      "cell_type": "code",
      "metadata": {
        "id": "zAZau_D8uEMA"
      },
      "source": [
        "print(svm)"
      ],
      "execution_count": null,
      "outputs": []
    },
    {
      "cell_type": "markdown",
      "metadata": {
        "id": "CTQBBPQffyU_"
      },
      "source": [
        "One class SVMは、サポートベクターマシンの応用であるにも関わらず教師なし学習となります。  \n",
        "One class SVMでは、学習データを1つのクラスタ とし、原点をもう一つのクラスタとするカーネルトリックという手法を使います。   \n",
        "これにより高次元空間にデータが写像されるのですが、学習データは原点から遠くに配置されるため、学習データから離れたサンプルは原点の近くに集まります。  \n",
        "これにより、正常/異常の区別をします。  "
      ]
    },
    {
      "cell_type": "markdown",
      "metadata": {
        "id": "NZV2jYKyaxeM"
      },
      "source": [
        "## ラベルの割当て\n",
        "`assign_model`関数により、サンプルが異常かどうかを表すラベル、および異常の程度を表すスコアを割り当てることができます。  "
      ]
    },
    {
      "cell_type": "code",
      "metadata": {
        "id": "kRyIUO6Yvc-B"
      },
      "source": [
        "from pycaret.anomaly import assign_model\n",
        "\n",
        "kmean_assigned = assign_model(svm)\n",
        "kmean_assigned.head()"
      ],
      "execution_count": null,
      "outputs": []
    },
    {
      "cell_type": "markdown",
      "metadata": {
        "id": "1SNjRAtAf4F8"
      },
      "source": [
        "OCSVMのAnomaly Scoreの計算方法ですが、SVMの超平面からの「符号付き距離 」がAnomaly Scoreになります。  \n",
        "符号付距離は、正常なサンプルの場合は正、異常な場合は負となります。  \n",
        "詳しくは、以下のscikit-learnの公式ドキュメントが参考になります。  \n",
        "https://scikit-learn.org/stable/modules/generated/sklearn.svm.OneClassSVM.html#sklearn.svm.OneClassSVM.decision_function\n"
      ]
    },
    {
      "cell_type": "markdown",
      "metadata": {
        "id": "QO_zJgDbd-dt"
      },
      "source": [
        "## モデルを評価する\n",
        "plot_model関数により、様々な角度からモデルを分析することができます。  \n",
        "https://pycaret.org/plot-model/\n",
        "\n",
        "plot_model関数でplotを指定しない場合、t-SNEの結果が表示されます。  "
      ]
    },
    {
      "cell_type": "code",
      "metadata": {
        "id": "zXfbyXa8n6fc"
      },
      "source": [
        "from pycaret.anomaly import plot_model\n",
        "\n",
        "plot_model(svm)"
      ],
      "execution_count": null,
      "outputs": []
    },
    {
      "cell_type": "markdown",
      "metadata": {
        "id": "0tX3YqRKftd8"
      },
      "source": [
        "## モデルの保存と読み込み"
      ]
    },
    {
      "cell_type": "markdown",
      "metadata": {
        "id": "GgfDqRBTFtSz"
      },
      "source": [
        "`save_model`関数によりモデルを保存することができます。  "
      ]
    },
    {
      "cell_type": "code",
      "metadata": {
        "id": "dvIl2G8_Ftvs"
      },
      "source": [
        "from pycaret.anomaly import save_model\n",
        "\n",
        "save_model(svm, \"model_anomaly_detection\")"
      ],
      "execution_count": null,
      "outputs": []
    },
    {
      "cell_type": "markdown",
      "metadata": {
        "id": "SFFWZFSzl7gd"
      },
      "source": [
        "`load_model`関数により、保存されたモデルを読み込むことができます。"
      ]
    },
    {
      "cell_type": "code",
      "metadata": {
        "id": "GUUciwgvF0eF"
      },
      "source": [
        "from pycaret.anomaly import load_model\n",
        "\n",
        "loaded_svm = load_model(\"model_anomaly_detection\")"
      ],
      "execution_count": null,
      "outputs": []
    },
    {
      "cell_type": "markdown",
      "metadata": {
        "id": "nJtHEFGSjHEr"
      },
      "source": [
        "## 未知のデータで予測する\n",
        "「未知のデータ」が所属すべきクラスタを予測します。  "
      ]
    },
    {
      "cell_type": "code",
      "metadata": {
        "id": "ATaqIJbB9PMN"
      },
      "source": [
        "from pycaret.anomaly import predict_model\n",
        "\n",
        "unseen_predictions = predict_model(loaded_svm, data=data_unseen)\n",
        "unseen_predictions.head()"
      ],
      "execution_count": null,
      "outputs": []
    }
  ]
}